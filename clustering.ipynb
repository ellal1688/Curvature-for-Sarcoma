{
 "cells": [
  {
   "cell_type": "markdown",
   "id": "c1af60ed-916c-4d6f-a659-ee1cd58244ed",
   "metadata": {},
   "source": [
    "# Import libraries"
   ]
  },
  {
   "cell_type": "code",
   "execution_count": null,
   "id": "832a882b-c050-445f-b4c1-6a06ae06f6fd",
   "metadata": {},
   "outputs": [],
   "source": [
    "import sys\n",
    "from pathlib import Path\n",
    "\n",
    "import matplotlib.pyplot as plt\n",
    "import networkx as nx\n",
    "import numpy as np\n",
    "import pandas as pd\n",
    "import seaborn as sns\n",
    "\n",
    "import scipy.cluster.hierarchy as hc\n",
    "import scipy.spatial as sp"
   ]
  },
  {
   "cell_type": "code",
   "execution_count": null,
   "id": "6506542e",
   "metadata": {},
   "outputs": [],
   "source": [
    "import cvxpy"
   ]
  },
  {
   "cell_type": "code",
   "execution_count": null,
   "id": "7a01c049-9b0e-4362-a456-753233493ecf",
   "metadata": {},
   "outputs": [],
   "source": [
    "MAIN_DIR = Path('.').absolute().parent\n",
    "sys.path.append(str(MAIN_DIR))\n",
    "from dynosarc import utils as utl"
   ]
  },
  {
   "cell_type": "markdown",
   "id": "acea8683-9c9c-4212-9c87-388e93331f0d",
   "metadata": {},
   "source": [
    "# Directories and file names"
   ]
  },
  {
   "cell_type": "code",
   "execution_count": null,
   "id": "c2cb7d45-19bf-4a03-9a5f-d357656f7d85",
   "metadata": {},
   "outputs": [],
   "source": [
    "DATA_DIR = MAIN_DIR / 'data'\n",
    "RESULTS_DIR = MAIN_DIR / 'results'"
   ]
  },
  {
   "cell_type": "code",
   "execution_count": null,
   "id": "3e445607-b6e4-4a04-80a2-ba86b8deeea8",
   "metadata": {},
   "outputs": [],
   "source": [
    "SUBTYPES_FNAME = DATA_DIR / 'subtypes.csv'  \n",
    "\n",
    "\n",
    "# RNA_HPRD_FNAME = DATA_DIR / 'rna_hprd.csv'  \n",
    "# E_HPRD_FNAME = DATA_DIR / 'edgelist_hprd.csv' \n",
    "# E_HPRD_ONCOKB_FNAME = DATA_DIR / 'oncokb_genes.csv' \n",
    "# # E_HPRD_ONCOKB_FNAME = DATA_DIR / 'edgelist_hprd_oncokb.csv' "
   ]
  },
  {
   "cell_type": "code",
   "execution_count": null,
   "id": "583ef735-8a3a-4d6a-882b-22a989967380",
   "metadata": {},
   "outputs": [],
   "source": [
    "CLUS_RESULTS_DIR = RESULTS_DIR / 'clus_results'\n",
    "\n",
    "if not CLUS_RESULTS_DIR.is_dir():\n",
    "    CLUS_RESULTS_DIR.mkdir()    "
   ]
  },
  {
   "cell_type": "markdown",
   "id": "554650ab-abef-4da8-b8b7-54703e4eca14",
   "metadata": {},
   "source": [
    "# Load data"
   ]
  },
  {
   "cell_type": "code",
   "execution_count": 121,
   "id": "5de9d0f9-1130-4ea2-abe4-6d8d734d6733",
   "metadata": {},
   "outputs": [],
   "source": [
    "subtypes = pd.read_csv(SUBTYPES_FNAME, header=0,index_col=0)\n",
    "subtypes\n",
    "subtypes = subtypes['subtype']\n",
    "subtypes = pd.Series(subtypes)\n",
    "# subtypes\n"
   ]
  },
  {
   "cell_type": "code",
   "execution_count": null,
   "id": "2e906b4f-3e13-4d4b-960a-bdc342095f47",
   "metadata": {},
   "outputs": [],
   "source": [
    "# E = pd.read_csv(E_HPRD_FNAME, header=0, index_col=None)\n",
    "# G = nx.from_pandas_edgelist(E)"
   ]
  },
  {
   "cell_type": "code",
   "execution_count": null,
   "id": "0739797c",
   "metadata": {},
   "outputs": [],
   "source": [
    "E = pd.read_csv(DATA_DIR/'genes_network.csv', header=0)\n",
    "E=E.iloc[0:,[0,1,12]]\n",
    "display(E)\n"
   ]
  },
  {
   "cell_type": "code",
   "execution_count": null,
   "id": "eb645786",
   "metadata": {},
   "outputs": [],
   "source": [
    "G = nx.from_pandas_edgelist(E, \"node1\",\"node2\")"
   ]
  },
  {
   "cell_type": "code",
   "execution_count": null,
   "id": "279dad24-2b45-4a03-961f-1513c1149bee",
   "metadata": {},
   "outputs": [],
   "source": [
    "data = pd.read_csv(DATA_DIR/'genes_network.csv', header=0, index_col=0) \n",
    "# data = pd.read_csv(RNA_HPRD_FNAME, header=0, index_col=0)"
   ]
  },
  {
   "cell_type": "markdown",
   "id": "b21c8ee6-b12d-434c-96da-99c201c6311f",
   "metadata": {},
   "source": [
    "# Wasserstein-based hierarchical clustering"
   ]
  },
  {
   "cell_type": "markdown",
   "id": "bc3659e9-ba72-457d-b1d5-9e4dbcffc599",
   "metadata": {},
   "source": [
    "## Compute invariant distributions\n",
    "\n",
    "Invariant distributions are computed if a file with the invariant distribution file name doesn't exist. Otherwise, the invariant distributions are loaded from the file."
   ]
  },
  {
   "cell_type": "code",
   "execution_count": null,
   "id": "5cb45dfe-b8f6-4f1e-bb2f-307d8a94ed0e",
   "metadata": {},
   "outputs": [],
   "source": [
    "invr_fname = CLUS_RESULTS_DIR / 'invariant_distributions_hprd.csv'"
   ]
  },
  {
   "cell_type": "code",
   "execution_count": null,
   "id": "1a95be76-0094-4fa1-821a-4cff924e04c8",
   "metadata": {},
   "outputs": [],
   "source": [
    "invrs = utl.compute_invariant_measures_for_cohort(G, data, invr_fname)\n",
    "invrs"
   ]
  },
  {
   "cell_type": "markdown",
   "id": "076aa0e2-452f-48ea-9c53-5d9de7e9d0d1",
   "metadata": {},
   "source": [
    "## Compute pairwise Wasserstein distances between invariant distributions\n",
    "\n",
    "The 1-Wasserstein distance is commonly called the earth mover's distance (EMD). We therefore use Wasserstein distance and EMD interchangeably. \n",
    "\n",
    "The pairwise EMDs are computed if a file with the pairwise EMD matrix file name doesn't exist. Otherwise, the pairwise EMDs are loaded from the file."
   ]
  },
  {
   "cell_type": "code",
   "execution_count": null,
   "id": "f7cb15e1-8a32-4dc3-b92a-7fc539c8582e",
   "metadata": {},
   "outputs": [],
   "source": [
    "emds_fname = CLUS_RESULTS_DIR / 'emds_invariant_distributions_hprd.csv'"
   ]
  },
  {
   "cell_type": "code",
   "execution_count": 110,
   "id": "9e89a19a-59d6-4c76-b42a-f668af900d94",
   "metadata": {},
   "outputs": [
    {
     "data": {
      "text/html": [
       "<div>\n",
       "<style scoped>\n",
       "    .dataframe tbody tr th:only-of-type {\n",
       "        vertical-align: middle;\n",
       "    }\n",
       "\n",
       "    .dataframe tbody tr th {\n",
       "        vertical-align: top;\n",
       "    }\n",
       "\n",
       "    .dataframe thead th {\n",
       "        text-align: right;\n",
       "    }\n",
       "</style>\n",
       "<table border=\"1\" class=\"dataframe\">\n",
       "  <thead>\n",
       "    <tr style=\"text-align: right;\">\n",
       "      <th></th>\n",
       "      <th>DSRCT0</th>\n",
       "      <th>DSRCT1</th>\n",
       "      <th>DSRCT2</th>\n",
       "      <th>DSRCT3</th>\n",
       "      <th>DSRCT4</th>\n",
       "      <th>DSRCT5</th>\n",
       "      <th>DSRCT6</th>\n",
       "      <th>DSRCT7</th>\n",
       "      <th>DSRCT8</th>\n",
       "      <th>DSRCT9</th>\n",
       "      <th>...</th>\n",
       "      <th>OST20</th>\n",
       "      <th>OST21</th>\n",
       "      <th>OST22</th>\n",
       "      <th>OST23</th>\n",
       "      <th>OST24</th>\n",
       "      <th>OST25</th>\n",
       "      <th>OST26</th>\n",
       "      <th>OST27</th>\n",
       "      <th>OST28</th>\n",
       "      <th>DSRCT19</th>\n",
       "    </tr>\n",
       "  </thead>\n",
       "  <tbody>\n",
       "    <tr>\n",
       "      <th>DSRCT0</th>\n",
       "      <td>0.000000</td>\n",
       "      <td>0.029818</td>\n",
       "      <td>0.022810</td>\n",
       "      <td>0.055841</td>\n",
       "      <td>0.026666</td>\n",
       "      <td>0.056733</td>\n",
       "      <td>0.026959</td>\n",
       "      <td>0.028228</td>\n",
       "      <td>0.054203</td>\n",
       "      <td>0.067270</td>\n",
       "      <td>...</td>\n",
       "      <td>0.107557</td>\n",
       "      <td>0.091946</td>\n",
       "      <td>0.095576</td>\n",
       "      <td>0.098810</td>\n",
       "      <td>0.094161</td>\n",
       "      <td>0.097305</td>\n",
       "      <td>0.097749</td>\n",
       "      <td>0.097761</td>\n",
       "      <td>0.095530</td>\n",
       "      <td>0.064878</td>\n",
       "    </tr>\n",
       "    <tr>\n",
       "      <th>DSRCT1</th>\n",
       "      <td>0.029818</td>\n",
       "      <td>0.000000</td>\n",
       "      <td>0.026098</td>\n",
       "      <td>0.052891</td>\n",
       "      <td>0.030706</td>\n",
       "      <td>0.052683</td>\n",
       "      <td>0.025282</td>\n",
       "      <td>0.024204</td>\n",
       "      <td>0.048558</td>\n",
       "      <td>0.065376</td>\n",
       "      <td>...</td>\n",
       "      <td>0.108170</td>\n",
       "      <td>0.092602</td>\n",
       "      <td>0.096712</td>\n",
       "      <td>0.098189</td>\n",
       "      <td>0.093786</td>\n",
       "      <td>0.095089</td>\n",
       "      <td>0.091365</td>\n",
       "      <td>0.100844</td>\n",
       "      <td>0.098003</td>\n",
       "      <td>0.062949</td>\n",
       "    </tr>\n",
       "    <tr>\n",
       "      <th>DSRCT2</th>\n",
       "      <td>0.022810</td>\n",
       "      <td>0.026098</td>\n",
       "      <td>0.000000</td>\n",
       "      <td>0.054921</td>\n",
       "      <td>0.024048</td>\n",
       "      <td>0.058835</td>\n",
       "      <td>0.031565</td>\n",
       "      <td>0.027488</td>\n",
       "      <td>0.051178</td>\n",
       "      <td>0.068966</td>\n",
       "      <td>...</td>\n",
       "      <td>0.108317</td>\n",
       "      <td>0.093745</td>\n",
       "      <td>0.096097</td>\n",
       "      <td>0.098941</td>\n",
       "      <td>0.094718</td>\n",
       "      <td>0.098387</td>\n",
       "      <td>0.096088</td>\n",
       "      <td>0.099491</td>\n",
       "      <td>0.096912</td>\n",
       "      <td>0.066452</td>\n",
       "    </tr>\n",
       "    <tr>\n",
       "      <th>DSRCT3</th>\n",
       "      <td>0.055841</td>\n",
       "      <td>0.052891</td>\n",
       "      <td>0.054921</td>\n",
       "      <td>0.000000</td>\n",
       "      <td>0.050020</td>\n",
       "      <td>0.059394</td>\n",
       "      <td>0.051770</td>\n",
       "      <td>0.052876</td>\n",
       "      <td>0.047708</td>\n",
       "      <td>0.062288</td>\n",
       "      <td>...</td>\n",
       "      <td>0.101878</td>\n",
       "      <td>0.083615</td>\n",
       "      <td>0.092007</td>\n",
       "      <td>0.089598</td>\n",
       "      <td>0.085702</td>\n",
       "      <td>0.090352</td>\n",
       "      <td>0.086261</td>\n",
       "      <td>0.092088</td>\n",
       "      <td>0.091258</td>\n",
       "      <td>0.069174</td>\n",
       "    </tr>\n",
       "    <tr>\n",
       "      <th>DSRCT4</th>\n",
       "      <td>0.026666</td>\n",
       "      <td>0.030706</td>\n",
       "      <td>0.024048</td>\n",
       "      <td>0.050020</td>\n",
       "      <td>0.000000</td>\n",
       "      <td>0.056882</td>\n",
       "      <td>0.033463</td>\n",
       "      <td>0.026164</td>\n",
       "      <td>0.049903</td>\n",
       "      <td>0.064874</td>\n",
       "      <td>...</td>\n",
       "      <td>0.105951</td>\n",
       "      <td>0.092532</td>\n",
       "      <td>0.094178</td>\n",
       "      <td>0.098806</td>\n",
       "      <td>0.092696</td>\n",
       "      <td>0.097522</td>\n",
       "      <td>0.095560</td>\n",
       "      <td>0.096435</td>\n",
       "      <td>0.094466</td>\n",
       "      <td>0.064696</td>\n",
       "    </tr>\n",
       "    <tr>\n",
       "      <th>...</th>\n",
       "      <td>...</td>\n",
       "      <td>...</td>\n",
       "      <td>...</td>\n",
       "      <td>...</td>\n",
       "      <td>...</td>\n",
       "      <td>...</td>\n",
       "      <td>...</td>\n",
       "      <td>...</td>\n",
       "      <td>...</td>\n",
       "      <td>...</td>\n",
       "      <td>...</td>\n",
       "      <td>...</td>\n",
       "      <td>...</td>\n",
       "      <td>...</td>\n",
       "      <td>...</td>\n",
       "      <td>...</td>\n",
       "      <td>...</td>\n",
       "      <td>...</td>\n",
       "      <td>...</td>\n",
       "      <td>...</td>\n",
       "      <td>...</td>\n",
       "    </tr>\n",
       "    <tr>\n",
       "      <th>OST25</th>\n",
       "      <td>0.097305</td>\n",
       "      <td>0.095089</td>\n",
       "      <td>0.098387</td>\n",
       "      <td>0.090352</td>\n",
       "      <td>0.097522</td>\n",
       "      <td>0.079341</td>\n",
       "      <td>0.084771</td>\n",
       "      <td>0.099463</td>\n",
       "      <td>0.097545</td>\n",
       "      <td>0.078207</td>\n",
       "      <td>...</td>\n",
       "      <td>0.062994</td>\n",
       "      <td>0.082028</td>\n",
       "      <td>0.060473</td>\n",
       "      <td>0.101916</td>\n",
       "      <td>0.050430</td>\n",
       "      <td>0.000000</td>\n",
       "      <td>0.075700</td>\n",
       "      <td>0.078655</td>\n",
       "      <td>0.071347</td>\n",
       "      <td>0.110664</td>\n",
       "    </tr>\n",
       "    <tr>\n",
       "      <th>OST26</th>\n",
       "      <td>0.097749</td>\n",
       "      <td>0.091365</td>\n",
       "      <td>0.096088</td>\n",
       "      <td>0.086261</td>\n",
       "      <td>0.095560</td>\n",
       "      <td>0.085123</td>\n",
       "      <td>0.086973</td>\n",
       "      <td>0.094634</td>\n",
       "      <td>0.087681</td>\n",
       "      <td>0.097960</td>\n",
       "      <td>...</td>\n",
       "      <td>0.097182</td>\n",
       "      <td>0.066239</td>\n",
       "      <td>0.076825</td>\n",
       "      <td>0.079313</td>\n",
       "      <td>0.073316</td>\n",
       "      <td>0.075700</td>\n",
       "      <td>0.000000</td>\n",
       "      <td>0.082393</td>\n",
       "      <td>0.083034</td>\n",
       "      <td>0.096638</td>\n",
       "    </tr>\n",
       "    <tr>\n",
       "      <th>OST27</th>\n",
       "      <td>0.097761</td>\n",
       "      <td>0.100844</td>\n",
       "      <td>0.099491</td>\n",
       "      <td>0.092088</td>\n",
       "      <td>0.096435</td>\n",
       "      <td>0.091180</td>\n",
       "      <td>0.091596</td>\n",
       "      <td>0.097918</td>\n",
       "      <td>0.095404</td>\n",
       "      <td>0.103241</td>\n",
       "      <td>...</td>\n",
       "      <td>0.092830</td>\n",
       "      <td>0.069004</td>\n",
       "      <td>0.074235</td>\n",
       "      <td>0.088753</td>\n",
       "      <td>0.076609</td>\n",
       "      <td>0.078655</td>\n",
       "      <td>0.082393</td>\n",
       "      <td>0.000000</td>\n",
       "      <td>0.036866</td>\n",
       "      <td>0.100495</td>\n",
       "    </tr>\n",
       "    <tr>\n",
       "      <th>OST28</th>\n",
       "      <td>0.095530</td>\n",
       "      <td>0.098003</td>\n",
       "      <td>0.096912</td>\n",
       "      <td>0.091258</td>\n",
       "      <td>0.094466</td>\n",
       "      <td>0.084552</td>\n",
       "      <td>0.088175</td>\n",
       "      <td>0.095647</td>\n",
       "      <td>0.096267</td>\n",
       "      <td>0.095907</td>\n",
       "      <td>...</td>\n",
       "      <td>0.079617</td>\n",
       "      <td>0.071778</td>\n",
       "      <td>0.064435</td>\n",
       "      <td>0.092700</td>\n",
       "      <td>0.066629</td>\n",
       "      <td>0.071347</td>\n",
       "      <td>0.083034</td>\n",
       "      <td>0.036866</td>\n",
       "      <td>0.000000</td>\n",
       "      <td>0.102641</td>\n",
       "    </tr>\n",
       "    <tr>\n",
       "      <th>DSRCT19</th>\n",
       "      <td>0.064878</td>\n",
       "      <td>0.062949</td>\n",
       "      <td>0.066452</td>\n",
       "      <td>0.069174</td>\n",
       "      <td>0.064696</td>\n",
       "      <td>0.064147</td>\n",
       "      <td>0.062827</td>\n",
       "      <td>0.063461</td>\n",
       "      <td>0.056554</td>\n",
       "      <td>0.085172</td>\n",
       "      <td>...</td>\n",
       "      <td>0.126636</td>\n",
       "      <td>0.093074</td>\n",
       "      <td>0.109573</td>\n",
       "      <td>0.096924</td>\n",
       "      <td>0.109691</td>\n",
       "      <td>0.110664</td>\n",
       "      <td>0.096638</td>\n",
       "      <td>0.100495</td>\n",
       "      <td>0.102641</td>\n",
       "      <td>0.000000</td>\n",
       "    </tr>\n",
       "  </tbody>\n",
       "</table>\n",
       "<p>70 rows × 70 columns</p>\n",
       "</div>"
      ],
      "text/plain": [
       "           DSRCT0    DSRCT1    DSRCT2    DSRCT3    DSRCT4    DSRCT5    DSRCT6  \\\n",
       "DSRCT0   0.000000  0.029818  0.022810  0.055841  0.026666  0.056733  0.026959   \n",
       "DSRCT1   0.029818  0.000000  0.026098  0.052891  0.030706  0.052683  0.025282   \n",
       "DSRCT2   0.022810  0.026098  0.000000  0.054921  0.024048  0.058835  0.031565   \n",
       "DSRCT3   0.055841  0.052891  0.054921  0.000000  0.050020  0.059394  0.051770   \n",
       "DSRCT4   0.026666  0.030706  0.024048  0.050020  0.000000  0.056882  0.033463   \n",
       "...           ...       ...       ...       ...       ...       ...       ...   \n",
       "OST25    0.097305  0.095089  0.098387  0.090352  0.097522  0.079341  0.084771   \n",
       "OST26    0.097749  0.091365  0.096088  0.086261  0.095560  0.085123  0.086973   \n",
       "OST27    0.097761  0.100844  0.099491  0.092088  0.096435  0.091180  0.091596   \n",
       "OST28    0.095530  0.098003  0.096912  0.091258  0.094466  0.084552  0.088175   \n",
       "DSRCT19  0.064878  0.062949  0.066452  0.069174  0.064696  0.064147  0.062827   \n",
       "\n",
       "           DSRCT7    DSRCT8    DSRCT9  ...     OST20     OST21     OST22  \\\n",
       "DSRCT0   0.028228  0.054203  0.067270  ...  0.107557  0.091946  0.095576   \n",
       "DSRCT1   0.024204  0.048558  0.065376  ...  0.108170  0.092602  0.096712   \n",
       "DSRCT2   0.027488  0.051178  0.068966  ...  0.108317  0.093745  0.096097   \n",
       "DSRCT3   0.052876  0.047708  0.062288  ...  0.101878  0.083615  0.092007   \n",
       "DSRCT4   0.026164  0.049903  0.064874  ...  0.105951  0.092532  0.094178   \n",
       "...           ...       ...       ...  ...       ...       ...       ...   \n",
       "OST25    0.099463  0.097545  0.078207  ...  0.062994  0.082028  0.060473   \n",
       "OST26    0.094634  0.087681  0.097960  ...  0.097182  0.066239  0.076825   \n",
       "OST27    0.097918  0.095404  0.103241  ...  0.092830  0.069004  0.074235   \n",
       "OST28    0.095647  0.096267  0.095907  ...  0.079617  0.071778  0.064435   \n",
       "DSRCT19  0.063461  0.056554  0.085172  ...  0.126636  0.093074  0.109573   \n",
       "\n",
       "            OST23     OST24     OST25     OST26     OST27     OST28   DSRCT19  \n",
       "DSRCT0   0.098810  0.094161  0.097305  0.097749  0.097761  0.095530  0.064878  \n",
       "DSRCT1   0.098189  0.093786  0.095089  0.091365  0.100844  0.098003  0.062949  \n",
       "DSRCT2   0.098941  0.094718  0.098387  0.096088  0.099491  0.096912  0.066452  \n",
       "DSRCT3   0.089598  0.085702  0.090352  0.086261  0.092088  0.091258  0.069174  \n",
       "DSRCT4   0.098806  0.092696  0.097522  0.095560  0.096435  0.094466  0.064696  \n",
       "...           ...       ...       ...       ...       ...       ...       ...  \n",
       "OST25    0.101916  0.050430  0.000000  0.075700  0.078655  0.071347  0.110664  \n",
       "OST26    0.079313  0.073316  0.075700  0.000000  0.082393  0.083034  0.096638  \n",
       "OST27    0.088753  0.076609  0.078655  0.082393  0.000000  0.036866  0.100495  \n",
       "OST28    0.092700  0.066629  0.071347  0.083034  0.036866  0.000000  0.102641  \n",
       "DSRCT19  0.096924  0.109691  0.110664  0.096638  0.100495  0.102641  0.000000  \n",
       "\n",
       "[70 rows x 70 columns]"
      ]
     },
     "execution_count": 110,
     "metadata": {},
     "output_type": "execute_result"
    }
   ],
   "source": [
    "emds = utl.EMD_matrix(invrs, G, emds_fname)\n",
    "emds"
   ]
  },
  {
   "cell_type": "markdown",
   "id": "c78a74c2-5f63-40a2-b60d-e935b0b1caf4",
   "metadata": {},
   "source": [
    "## Hierarchical clustering"
   ]
  },
  {
   "cell_type": "markdown",
   "id": "c670a771-dea4-4dc1-8e9e-22d69b2d6541",
   "metadata": {},
   "source": [
    "Check that the rows and columns of the emds dataframe is ordered symmetrically:"
   ]
  },
  {
   "cell_type": "code",
   "execution_count": null,
   "id": "3978854d-ea8e-4627-b1e8-59511e6614c3",
   "metadata": {},
   "outputs": [],
   "source": [
    "np.all(emds.index == emds.columns)"
   ]
  },
  {
   "cell_type": "code",
   "execution_count": null,
   "id": "1958f06c-86d7-4a63-9e47-59889c91f151",
   "metadata": {},
   "outputs": [],
   "source": [
    "emds_linkage = hc.linkage(sp.distance.squareform(emds), method='ward')\n"
   ]
  },
  {
   "cell_type": "markdown",
   "id": "5118c881-c436-4c79-b364-f278ca072db5",
   "metadata": {},
   "source": [
    "First, we plot the dendrogram to visualize the clustering:"
   ]
  },
  {
   "cell_type": "code",
   "execution_count": 112,
   "id": "00fe4fd3-cfec-4327-a9bc-54ff82f16f4c",
   "metadata": {},
   "outputs": [],
   "source": [
    "lut = {'DSRCT': 'darkblue', 'Ewing Sarcoma': 'darkgreen', 'Osteosarcoma': 'orange', 'Embryonal RMS': 'purple'}\n",
    "subtype_colors = subtypes.replace(lut).to_frame(name='Subtype')\n",
    "# subtype_colors\n",
    "# subtype_colors = subtypes.replace(lut).to_frame(name='Subtype')"
   ]
  },
  {
   "cell_type": "code",
   "execution_count": 122,
   "id": "ec632bee-7fbf-4603-b153-ccccec64f7b2",
   "metadata": {},
   "outputs": [
    {
     "name": "stdout",
     "output_type": "stream",
     "text": [
      "Axes(0.125,0.11;0.775x0.77)\n",
      "[Text(5, 0, 'ERMS0'), Text(15, 0, 'ERMS1'), Text(25, 0, 'ERMS5'), Text(35, 0, 'ERMS8'), Text(45, 0, 'ERMS2'), Text(55, 0, 'ERMS3'), Text(65, 0, 'ERMS6'), Text(75, 0, 'ERMS4'), Text(85, 0, 'ERMS7'), Text(95, 0, 'OST26'), Text(105, 0, 'OST18'), Text(115, 0, 'OST5'), Text(125, 0, 'OST9'), Text(135, 0, 'OST23'), Text(145, 0, 'OST19'), Text(155, 0, 'OST3'), Text(165, 0, 'OST6'), Text(175, 0, 'OST16'), Text(185, 0, 'OST11'), Text(195, 0, 'OST21'), Text(205, 0, 'OST15'), Text(215, 0, 'OST7'), Text(225, 0, 'OST22'), Text(235, 0, 'OST24'), Text(245, 0, 'EWS1'), Text(255, 0, 'OST20'), Text(265, 0, 'OST0'), Text(275, 0, 'OST25'), Text(285, 0, 'OST14'), Text(295, 0, 'OST17'), Text(305, 0, 'OST2'), Text(315, 0, 'OST12'), Text(325, 0, 'OST10'), Text(335, 0, 'OST13'), Text(345, 0, 'OST1'), Text(355, 0, 'OST8'), Text(365, 0, 'OST4'), Text(375, 0, 'OST27'), Text(385, 0, 'OST28'), Text(395, 0, 'EWS8'), Text(405, 0, 'EWS3'), Text(415, 0, 'EWS5'), Text(425, 0, 'EWS11'), Text(435, 0, 'EWS0'), Text(445, 0, 'EWS4'), Text(455, 0, 'EWS2'), Text(465, 0, 'EWS9'), Text(475, 0, 'EWS10'), Text(485, 0, 'EWS6'), Text(495, 0, 'EWS7'), Text(505, 0, 'DSRCT15'), Text(515, 0, 'DSRCT6'), Text(525, 0, 'DSRCT10'), Text(535, 0, 'DSRCT1'), Text(545, 0, 'DSRCT7'), Text(555, 0, 'DSRCT4'), Text(565, 0, 'DSRCT0'), Text(575, 0, 'DSRCT2'), Text(585, 0, 'DSRCT9'), Text(595, 0, 'DSRCT5'), Text(605, 0, 'DSRCT12'), Text(615, 0, 'DSRCT17'), Text(625, 0, 'DSRCT14'), Text(635, 0, 'DSRCT16'), Text(645, 0, 'DSRCT19'), Text(655, 0, 'DSRCT13'), Text(665, 0, 'DSRCT18'), Text(675, 0, 'DSRCT11'), Text(685, 0, 'DSRCT3'), Text(695, 0, 'DSRCT8')]\n"
     ]
    },
    {
     "data": {
      "image/png": "[encoded data removed]",
      "text/plain": [
       "<Figure size 1400x400 with 1 Axes>"
      ]
     },
     "metadata": {},
     "output_type": "display_data"
    }
   ],
   "source": [
    "f, ax = plt.subplots(1, 1, figsize=(14, 4))\n",
    "\n",
    "hc.set_link_color_palette(['purple', 'orange', 'darkgreen', 'darkblue']) \n",
    "hlt = hc.dendrogram(emds_linkage, above_threshold_color='#bcbddc', orientation='top', labels=emds.columns.tolist()[:],\n",
    "                    color_threshold=0.165, distance_sort='ascending', leaf_font_size=9, leaf_rotation=90, ax=ax)\n",
    "\n",
    "hc.set_link_color_palette(None)  # reset to default after use                                                                                    \n",
    "plt.title(\"Wasserstein based clustering\")\n",
    "# Apply the right color to each label                                                                                                            \n",
    "ax = plt.gca() # get from labels specified in hlt\n",
    "\n",
    "# get labels on x axis and positioning\n",
    "xlbls = ax.get_xmajorticklabels()\n",
    "print(ax)\n",
    "print(xlbls)\n",
    "# for every xlabel, if subtypes[dsrct0]= dsrct??\n",
    "# the columns in subtypes are samples (erm0,etc)\n",
    "# each column has one entry, which is which subtype it's predicted ? \n",
    "for lbl in xlbls:\n",
    "    ll = lbl.get_text()\n",
    "    if subtypes[ll] == 'DSRCT':\n",
    "        lbl.set_color('darkblue')\n",
    "    elif subtypes[ll] == 'Osteosarcoma':\n",
    "        lbl.set_color('orange')\n",
    "    elif subtypes[ll] == 'Ewing Sarcoma':\n",
    "        lbl.set_color('darkgreen')\n",
    "    elif subtypes[ll] == 'Embryonal RMS':\n",
    "        lbl.set_color('purple')\n",
    "    else:\n",
    "        raise ValueError(\"Unrecognized subtype.\")\n",
    "        \n",
    "for label in ['Embryonal RMS','Osteosarcoma','Ewing Sarcoma','DSRCT']:\n",
    "     ax.bar(0, 0, color=lut[label], label=label, linewidth=0)\n",
    "\n",
    "ax.legend(title='Subtype');"
   ]
  },
  {
   "cell_type": "code",
   "execution_count": 123,
   "id": "6b97ddb0-788a-4028-a34a-42a01e435e07",
   "metadata": {},
   "outputs": [],
   "source": [
    "sample_ordering = [emds.index.tolist()[k] for k in hlt['leaves']]"
   ]
  },
  {
   "cell_type": "markdown",
   "id": "32f92727-c8b8-4fed-a25f-627adf7cef65",
   "metadata": {},
   "source": [
    "Subtypes found by Wasserstein-based hierarchical clustering with pre-set 4 clusters (and 1 outlier):"
   ]
  },
  {
   "cell_type": "code",
   "execution_count": 124,
   "id": "c7ecbb6a-894d-41cb-a687-bf239cdc0033",
   "metadata": {},
   "outputs": [],
   "source": [
    "clustering_fname = CLUS_RESULTS_DIR / 'clustering_invariant_distributions_hprd.csv'"
   ]
  },
  {
   "cell_type": "code",
   "execution_count": 128,
   "id": "2e20d771-bd35-4496-b5a2-d7fdf5605a55",
   "metadata": {},
   "outputs": [],
   "source": [
    "if not clustering_fname.is_file(): # compute partition\n",
    "    wass_clustering = pd.Series(data=hc.fcluster(emds_linkage, 5, criterion='maxclust'), index=emds.index.copy(), name='Wasserstein_hclust')\n",
    "    \n",
    "    # Replace cluster index with subtype:\n",
    "    wass_clustering = wass_clustering.replace({1: 'Embryonal RMS', 2: 'Osteosarcoma', 3: 'Outlier', 4: 'Ewing Sarcoma', 5: 'DSRCT'})\n",
    "    \n",
    "    # Save clustering in ordering by dendrogram:\n",
    "    wass_clustering = wass_clustering.loc[sample_ordering]\n",
    "    \n",
    "    # Save clustering:\n",
    "    wass_clustering.to_csv(clustering_fname, header=True, index=True)\n",
    "else: # load partition: \n",
    "    wass_clustering = pd.read_csv(clustering_fname, header=0, index_col=0)['Wasserstein_hclust']\n"
   ]
  },
  {
   "cell_type": "markdown",
   "id": "af779daa-c01d-41f9-9ac2-ea182744fec3",
   "metadata": {},
   "source": [
    "Dendrogram with heatmap of Wasserstein distances visualization:"
   ]
  },
  {
   "cell_type": "code",
   "execution_count": 129,
   "id": "63f0396b-64c4-4515-afd4-9b73735812b1",
   "metadata": {},
   "outputs": [
    {
     "data": {
      "image/png": "[encoded data removed]",
      "text/plain": [
       "<Figure size 1000x1000 with 6 Axes>"
      ]
     },
     "metadata": {},
     "output_type": "display_data"
    }
   ],
   "source": [
    "g = sns.clustermap(emds, row_linkage=emds_linkage, col_linkage=emds_linkage, figsize=(10,10), \n",
    "                   yticklabels=False, xticklabels=False, row_colors=subtype_colors, col_colors=subtype_colors,\n",
    "                   cmap=\"hot\", # linewidths=0.05,linecolor=\"white\",\n",
    "                   cbar_pos=(0.95,0.19,0.015,0.47), cbar_kws={'label': 'Waasserstein distance'})\n",
    "for label in ['Embryonal RMS','Osteosarcoma','Ewing Sarcoma','DSRCT']:\n",
    "     g.ax_col_dendrogram.bar(0, 0, color=lut[label], label=label, linewidth=0)\n",
    "\n",
    "l1 = g.ax_col_dendrogram.legend(title=\"Subtype\",loc=\"upper left\", ncol=1,bbox_to_anchor=(0.05, 0.93), bbox_transform=plt.gcf().transFigure,fontsize='small')\n",
    "g.ax_heatmap.set_xlabel('sample');\n",
    "g.ax_heatmap.set_ylabel('sample');\n",
    "# g.figure.savefig(MAIN_DIR / 'figures' / 'Wass_subtype_clustering_heatmap.png', dpi=300, bbox_inches='tight')"
   ]
  },
  {
   "cell_type": "code",
   "execution_count": null,
   "id": "849c7a96-758d-4276-8780-6e2d0037661c",
   "metadata": {},
   "outputs": [],
   "source": [
    "silh_scores_wo_outlier = {}\n",
    "for n_clus in range(2, EMDs_wo_outlier.shape[0]+1):\n",
    "    predicted_labels = hc.fcluster(linkage_wo_outlier, n_clus, criterion='maxclust')\n",
    "    silh_scores_wo_outlier[n_clus] = silhouette_score(EMDs_wo_outlier.copy(), predicted_labels, metric=\"precomputed\")\n",
    "    \n",
    "silh_scores_wo_outlier = pd.Series(silh_scores_wo_outlier)    "
   ]
  },
  {
   "cell_type": "code",
   "execution_count": null,
   "id": "a422c8db-91b1-4783-93b7-e74a2c43c308",
   "metadata": {},
   "outputs": [],
   "source": [
    "silh_wo_outlier_opt_n_clus = silh_scores_wo_outlier.idxmax()\n",
    "print(f\"Optimal Silhouette score w/o outlier = {silh_scores_wo_outlier[silh_wo_outlier_opt_n_clus]} with {silh_wo_outlier_opt_n_clus} clusters\")\n",
    "silh_wo_outlier_predicted_labels = pd.Series(data=hc.fcluster(linkage_wo_outlier, silh_wo_outlier_opt_n_clus, criterion='maxclust'), index=EMDs_wo_outlier.index.copy(), name='Silhouette_score')"
   ]
  }
 ],
 "metadata": {
  "kernelspec": {
   "display_name": "Python 3 (ipykernel)",
   "language": "python",
   "name": "python3"
  },
  "language_info": {
   "codemirror_mode": {
    "name": "ipython",
    "version": 3
   },
   "file_extension": ".py",
   "mimetype": "text/x-python",
   "name": "python",
   "nbconvert_exporter": "python",
   "pygments_lexer": "ipython3",
   "version": "3.12.3"
  }
 },
 "nbformat": 4,
 "nbformat_minor": 5
}
